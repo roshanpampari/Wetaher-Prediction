{
 "cells": [
  {
   "cell_type": "markdown",
   "id": "004c7c1c-ea46-4dd5-a781-71431c51ccc2",
   "metadata": {},
   "source": [
    "# Weather Prediction using Machine Learning Algorithms"
   ]
  },
  {
   "cell_type": "markdown",
   "id": "e41b93ed-20ef-481d-ab64-9c6d299447f8",
   "metadata": {},
   "source": [
    "# Importing all necessary Libraries"
   ]
  },
  {
   "cell_type": "code",
   "execution_count": 5,
   "id": "ac9c6fc1-e5a6-410e-98d9-783e662c659b",
   "metadata": {},
   "outputs": [],
   "source": [
    "import pandas as pd\n",
    "import numpy as np\n",
    "import matplotlib.pyplot as plt\n",
    "import seaborn as sns\n",
    "from sklearn.model_selection import train_test_split\n",
    "from sklearn.linear_model import LinearRegression\n",
    "from sklearn.ensemble import RandomForestRegressor\n",
    "from sklearn.metrics import mean_squared_error, mean_absolute_error, r2_score\n",
    "from sklearn.preprocessing import StandardScaler"
   ]
  },
  {
   "cell_type": "markdown",
   "id": "d19ad6a6-fe4f-47a0-9ef3-e6a6ea7e095e",
   "metadata": {},
   "source": [
    "# Step 1 : Load dataset "
   ]
  },
  {
   "cell_type": "code",
   "execution_count": 7,
   "id": "9eb7eb0d-904d-46c7-a406-c845f0b41e5d",
   "metadata": {},
   "outputs": [],
   "source": [
    "df = pd.read_csv('weather.csv')"
   ]
  },
  {
   "cell_type": "markdown",
   "id": "6e851793-1295-49b1-9901-8097e9ac7686",
   "metadata": {},
   "source": [
    "# Step 2 : Exploring the dataset"
   ]
  },
  {
   "cell_type": "code",
   "execution_count": 9,
   "id": "ea127a48-8c09-4197-981b-5786ddc5f466",
   "metadata": {},
   "outputs": [
    {
     "data": {
      "text/html": [
       "<div>\n",
       "<style scoped>\n",
       "    .dataframe tbody tr th:only-of-type {\n",
       "        vertical-align: middle;\n",
       "    }\n",
       "\n",
       "    .dataframe tbody tr th {\n",
       "        vertical-align: top;\n",
       "    }\n",
       "\n",
       "    .dataframe thead th {\n",
       "        text-align: right;\n",
       "    }\n",
       "</style>\n",
       "<table border=\"1\" class=\"dataframe\">\n",
       "  <thead>\n",
       "    <tr style=\"text-align: right;\">\n",
       "      <th></th>\n",
       "      <th>Formatted Date</th>\n",
       "      <th>Summary</th>\n",
       "      <th>Precip Type</th>\n",
       "      <th>Temperature (C)</th>\n",
       "      <th>Apparent Temperature (C)</th>\n",
       "      <th>Humidity</th>\n",
       "      <th>Wind Speed (km/h)</th>\n",
       "      <th>Wind Bearing (degrees)</th>\n",
       "      <th>Visibility (km)</th>\n",
       "      <th>Loud Cover</th>\n",
       "      <th>Pressure (millibars)</th>\n",
       "      <th>Daily Summary</th>\n",
       "    </tr>\n",
       "  </thead>\n",
       "  <tbody>\n",
       "    <tr>\n",
       "      <th>0</th>\n",
       "      <td>2006-04-01 00:00:00.000 +0200</td>\n",
       "      <td>Partly Cloudy</td>\n",
       "      <td>rain</td>\n",
       "      <td>9.472222</td>\n",
       "      <td>7.388889</td>\n",
       "      <td>0.89</td>\n",
       "      <td>14.1197</td>\n",
       "      <td>251.0</td>\n",
       "      <td>15.8263</td>\n",
       "      <td>0.0</td>\n",
       "      <td>1015.13</td>\n",
       "      <td>Partly cloudy throughout the day.</td>\n",
       "    </tr>\n",
       "    <tr>\n",
       "      <th>1</th>\n",
       "      <td>2006-04-01 01:00:00.000 +0200</td>\n",
       "      <td>Partly Cloudy</td>\n",
       "      <td>rain</td>\n",
       "      <td>9.355556</td>\n",
       "      <td>7.227778</td>\n",
       "      <td>0.86</td>\n",
       "      <td>14.2646</td>\n",
       "      <td>259.0</td>\n",
       "      <td>15.8263</td>\n",
       "      <td>0.0</td>\n",
       "      <td>1015.63</td>\n",
       "      <td>Partly cloudy throughout the day.</td>\n",
       "    </tr>\n",
       "    <tr>\n",
       "      <th>2</th>\n",
       "      <td>2006-04-01 02:00:00.000 +0200</td>\n",
       "      <td>Mostly Cloudy</td>\n",
       "      <td>rain</td>\n",
       "      <td>9.377778</td>\n",
       "      <td>9.377778</td>\n",
       "      <td>0.89</td>\n",
       "      <td>3.9284</td>\n",
       "      <td>204.0</td>\n",
       "      <td>14.9569</td>\n",
       "      <td>0.0</td>\n",
       "      <td>1015.94</td>\n",
       "      <td>Partly cloudy throughout the day.</td>\n",
       "    </tr>\n",
       "    <tr>\n",
       "      <th>3</th>\n",
       "      <td>2006-04-01 03:00:00.000 +0200</td>\n",
       "      <td>Partly Cloudy</td>\n",
       "      <td>rain</td>\n",
       "      <td>8.288889</td>\n",
       "      <td>5.944444</td>\n",
       "      <td>0.83</td>\n",
       "      <td>14.1036</td>\n",
       "      <td>269.0</td>\n",
       "      <td>15.8263</td>\n",
       "      <td>0.0</td>\n",
       "      <td>1016.41</td>\n",
       "      <td>Partly cloudy throughout the day.</td>\n",
       "    </tr>\n",
       "    <tr>\n",
       "      <th>4</th>\n",
       "      <td>2006-04-01 04:00:00.000 +0200</td>\n",
       "      <td>Mostly Cloudy</td>\n",
       "      <td>rain</td>\n",
       "      <td>8.755556</td>\n",
       "      <td>6.977778</td>\n",
       "      <td>0.83</td>\n",
       "      <td>11.0446</td>\n",
       "      <td>259.0</td>\n",
       "      <td>15.8263</td>\n",
       "      <td>0.0</td>\n",
       "      <td>1016.51</td>\n",
       "      <td>Partly cloudy throughout the day.</td>\n",
       "    </tr>\n",
       "  </tbody>\n",
       "</table>\n",
       "</div>"
      ],
      "text/plain": [
       "                  Formatted Date        Summary Precip Type  Temperature (C)  \\\n",
       "0  2006-04-01 00:00:00.000 +0200  Partly Cloudy        rain         9.472222   \n",
       "1  2006-04-01 01:00:00.000 +0200  Partly Cloudy        rain         9.355556   \n",
       "2  2006-04-01 02:00:00.000 +0200  Mostly Cloudy        rain         9.377778   \n",
       "3  2006-04-01 03:00:00.000 +0200  Partly Cloudy        rain         8.288889   \n",
       "4  2006-04-01 04:00:00.000 +0200  Mostly Cloudy        rain         8.755556   \n",
       "\n",
       "   Apparent Temperature (C)  Humidity  Wind Speed (km/h)  \\\n",
       "0                  7.388889      0.89            14.1197   \n",
       "1                  7.227778      0.86            14.2646   \n",
       "2                  9.377778      0.89             3.9284   \n",
       "3                  5.944444      0.83            14.1036   \n",
       "4                  6.977778      0.83            11.0446   \n",
       "\n",
       "   Wind Bearing (degrees)  Visibility (km)  Loud Cover  Pressure (millibars)  \\\n",
       "0                   251.0          15.8263         0.0               1015.13   \n",
       "1                   259.0          15.8263         0.0               1015.63   \n",
       "2                   204.0          14.9569         0.0               1015.94   \n",
       "3                   269.0          15.8263         0.0               1016.41   \n",
       "4                   259.0          15.8263         0.0               1016.51   \n",
       "\n",
       "                       Daily Summary  \n",
       "0  Partly cloudy throughout the day.  \n",
       "1  Partly cloudy throughout the day.  \n",
       "2  Partly cloudy throughout the day.  \n",
       "3  Partly cloudy throughout the day.  \n",
       "4  Partly cloudy throughout the day.  "
      ]
     },
     "execution_count": 9,
     "metadata": {},
     "output_type": "execute_result"
    }
   ],
   "source": [
    "df.head()"
   ]
  },
  {
   "cell_type": "code",
   "execution_count": 13,
   "id": "e639be55-8099-4980-af72-8887fd4a1f44",
   "metadata": {},
   "outputs": [
    {
     "name": "stdout",
     "output_type": "stream",
     "text": [
      "<class 'pandas.core.frame.DataFrame'>\n",
      "RangeIndex: 96453 entries, 0 to 96452\n",
      "Data columns (total 12 columns):\n",
      " #   Column                    Non-Null Count  Dtype  \n",
      "---  ------                    --------------  -----  \n",
      " 0   Formatted Date            96453 non-null  object \n",
      " 1   Summary                   96453 non-null  object \n",
      " 2   Precip Type               95936 non-null  object \n",
      " 3   Temperature (C)           96453 non-null  float64\n",
      " 4   Apparent Temperature (C)  96453 non-null  float64\n",
      " 5   Humidity                  96453 non-null  float64\n",
      " 6   Wind Speed (km/h)         96453 non-null  float64\n",
      " 7   Wind Bearing (degrees)    96453 non-null  float64\n",
      " 8   Visibility (km)           96453 non-null  float64\n",
      " 9   Loud Cover                96453 non-null  float64\n",
      " 10  Pressure (millibars)      96453 non-null  float64\n",
      " 11  Daily Summary             96453 non-null  object \n",
      "dtypes: float64(8), object(4)\n",
      "memory usage: 8.8+ MB\n"
     ]
    }
   ],
   "source": [
    "df.info()"
   ]
  },
  {
   "cell_type": "markdown",
   "id": "1923ee2e-abfa-4592-876e-bbe093fae2ba",
   "metadata": {},
   "source": [
    "# Step 3 Data preprocessing"
   ]
  },
  {
   "cell_type": "markdown",
   "id": "ccbac924-f95c-4cc2-851b-e50fb2e7f7ad",
   "metadata": {},
   "source": [
    "# Checking for null values"
   ]
  },
  {
   "cell_type": "code",
   "execution_count": 17,
   "id": "b7187f10-623d-4919-99cc-ea57c959f539",
   "metadata": {},
   "outputs": [
    {
     "name": "stdout",
     "output_type": "stream",
     "text": [
      "Formatted Date                0\n",
      "Summary                       0\n",
      "Precip Type                 517\n",
      "Temperature (C)               0\n",
      "Apparent Temperature (C)      0\n",
      "Humidity                      0\n",
      "Wind Speed (km/h)             0\n",
      "Wind Bearing (degrees)        0\n",
      "Visibility (km)               0\n",
      "Loud Cover                    0\n",
      "Pressure (millibars)          0\n",
      "Daily Summary                 0\n",
      "dtype: int64\n"
     ]
    }
   ],
   "source": [
    "print(df.isnull().sum())"
   ]
  },
  {
   "cell_type": "markdown",
   "id": "c15c6509-1539-412b-bf4e-2840448ba68e",
   "metadata": {},
   "source": [
    "# Handle missing values (fill missing values with the column's mean )"
   ]
  },
  {
   "cell_type": "code",
   "execution_count": 20,
   "id": "c720dea1-a874-4cf6-b9c5-3794ac8e9502",
   "metadata": {},
   "outputs": [
    {
     "name": "stdout",
     "output_type": "stream",
     "text": [
      "0\n"
     ]
    }
   ],
   "source": [
    "# Fill missing values in 'Precip Type' column with the mode (most frequent value)\n",
    "df['Precip Type'] = df['Precip Type'].fillna(df['Precip Type'].mode()[0])\n",
    "\n",
    "# Check if missing values are filled\n",
    "print(df['Precip Type'].isnull().sum())"
   ]
  },
  {
   "cell_type": "markdown",
   "id": "bfc2f921-80f7-48bb-906b-31d49ec768e7",
   "metadata": {},
   "source": [
    "# Convert Date column to datetime and extract relevant features"
   ]
  },
  {
   "cell_type": "code",
   "execution_count": 23,
   "id": "364d2861-695d-47b9-b151-b060d5e31ed6",
   "metadata": {},
   "outputs": [
    {
     "name": "stdout",
     "output_type": "stream",
     "text": [
      "                 Formatted Date        Summary Precip Type  Temperature (C)  \\\n",
      "0     2006-03-31 22:00:00+00:00  Partly Cloudy        rain         9.472222   \n",
      "1     2006-03-31 23:00:00+00:00  Partly Cloudy        rain         9.355556   \n",
      "2     2006-04-01 00:00:00+00:00  Mostly Cloudy        rain         9.377778   \n",
      "3     2006-04-01 01:00:00+00:00  Partly Cloudy        rain         8.288889   \n",
      "4     2006-04-01 02:00:00+00:00  Mostly Cloudy        rain         8.755556   \n",
      "...                         ...            ...         ...              ...   \n",
      "96448 2016-09-09 17:00:00+00:00  Partly Cloudy        rain        26.016667   \n",
      "96449 2016-09-09 18:00:00+00:00  Partly Cloudy        rain        24.583333   \n",
      "96450 2016-09-09 19:00:00+00:00  Partly Cloudy        rain        22.038889   \n",
      "96451 2016-09-09 20:00:00+00:00  Partly Cloudy        rain        21.522222   \n",
      "96452 2016-09-09 21:00:00+00:00  Partly Cloudy        rain        20.438889   \n",
      "\n",
      "       Apparent Temperature (C)  Humidity  Wind Speed (km/h)  \\\n",
      "0                      7.388889      0.89            14.1197   \n",
      "1                      7.227778      0.86            14.2646   \n",
      "2                      9.377778      0.89             3.9284   \n",
      "3                      5.944444      0.83            14.1036   \n",
      "4                      6.977778      0.83            11.0446   \n",
      "...                         ...       ...                ...   \n",
      "96448                 26.016667      0.43            10.9963   \n",
      "96449                 24.583333      0.48            10.0947   \n",
      "96450                 22.038889      0.56             8.9838   \n",
      "96451                 21.522222      0.60            10.5294   \n",
      "96452                 20.438889      0.61             5.8765   \n",
      "\n",
      "       Wind Bearing (degrees)  Visibility (km)  Loud Cover  \\\n",
      "0                       251.0          15.8263         0.0   \n",
      "1                       259.0          15.8263         0.0   \n",
      "2                       204.0          14.9569         0.0   \n",
      "3                       269.0          15.8263         0.0   \n",
      "4                       259.0          15.8263         0.0   \n",
      "...                       ...              ...         ...   \n",
      "96448                    31.0          16.1000         0.0   \n",
      "96449                    20.0          15.5526         0.0   \n",
      "96450                    30.0          16.1000         0.0   \n",
      "96451                    20.0          16.1000         0.0   \n",
      "96452                    39.0          15.5204         0.0   \n",
      "\n",
      "       Pressure (millibars)                           Daily Summary  \n",
      "0                   1015.13       Partly cloudy throughout the day.  \n",
      "1                   1015.63       Partly cloudy throughout the day.  \n",
      "2                   1015.94       Partly cloudy throughout the day.  \n",
      "3                   1016.41       Partly cloudy throughout the day.  \n",
      "4                   1016.51       Partly cloudy throughout the day.  \n",
      "...                     ...                                     ...  \n",
      "96448               1014.36  Partly cloudy starting in the morning.  \n",
      "96449               1015.16  Partly cloudy starting in the morning.  \n",
      "96450               1015.66  Partly cloudy starting in the morning.  \n",
      "96451               1015.95  Partly cloudy starting in the morning.  \n",
      "96452               1016.16  Partly cloudy starting in the morning.  \n",
      "\n",
      "[96453 rows x 12 columns]\n",
      "                 Formatted Date        Summary Precip Type  Temperature (C)  \\\n",
      "0     2006-03-31 22:00:00+00:00  Partly Cloudy        rain         9.472222   \n",
      "1     2006-03-31 23:00:00+00:00  Partly Cloudy        rain         9.355556   \n",
      "2     2006-04-01 00:00:00+00:00  Mostly Cloudy        rain         9.377778   \n",
      "3     2006-04-01 01:00:00+00:00  Partly Cloudy        rain         8.288889   \n",
      "4     2006-04-01 02:00:00+00:00  Mostly Cloudy        rain         8.755556   \n",
      "...                         ...            ...         ...              ...   \n",
      "96448 2016-09-09 17:00:00+00:00  Partly Cloudy        rain        26.016667   \n",
      "96449 2016-09-09 18:00:00+00:00  Partly Cloudy        rain        24.583333   \n",
      "96450 2016-09-09 19:00:00+00:00  Partly Cloudy        rain        22.038889   \n",
      "96451 2016-09-09 20:00:00+00:00  Partly Cloudy        rain        21.522222   \n",
      "96452 2016-09-09 21:00:00+00:00  Partly Cloudy        rain        20.438889   \n",
      "\n",
      "       Apparent Temperature (C)  Humidity  Wind Speed (km/h)  \\\n",
      "0                      7.388889      0.89            14.1197   \n",
      "1                      7.227778      0.86            14.2646   \n",
      "2                      9.377778      0.89             3.9284   \n",
      "3                      5.944444      0.83            14.1036   \n",
      "4                      6.977778      0.83            11.0446   \n",
      "...                         ...       ...                ...   \n",
      "96448                 26.016667      0.43            10.9963   \n",
      "96449                 24.583333      0.48            10.0947   \n",
      "96450                 22.038889      0.56             8.9838   \n",
      "96451                 21.522222      0.60            10.5294   \n",
      "96452                 20.438889      0.61             5.8765   \n",
      "\n",
      "       Wind Bearing (degrees)  Visibility (km)  Loud Cover  \\\n",
      "0                       251.0          15.8263         0.0   \n",
      "1                       259.0          15.8263         0.0   \n",
      "2                       204.0          14.9569         0.0   \n",
      "3                       269.0          15.8263         0.0   \n",
      "4                       259.0          15.8263         0.0   \n",
      "...                       ...              ...         ...   \n",
      "96448                    31.0          16.1000         0.0   \n",
      "96449                    20.0          15.5526         0.0   \n",
      "96450                    30.0          16.1000         0.0   \n",
      "96451                    20.0          16.1000         0.0   \n",
      "96452                    39.0          15.5204         0.0   \n",
      "\n",
      "       Pressure (millibars)                           Daily Summary  Year  \\\n",
      "0                   1015.13       Partly cloudy throughout the day.  2006   \n",
      "1                   1015.63       Partly cloudy throughout the day.  2006   \n",
      "2                   1015.94       Partly cloudy throughout the day.  2006   \n",
      "3                   1016.41       Partly cloudy throughout the day.  2006   \n",
      "4                   1016.51       Partly cloudy throughout the day.  2006   \n",
      "...                     ...                                     ...   ...   \n",
      "96448               1014.36  Partly cloudy starting in the morning.  2016   \n",
      "96449               1015.16  Partly cloudy starting in the morning.  2016   \n",
      "96450               1015.66  Partly cloudy starting in the morning.  2016   \n",
      "96451               1015.95  Partly cloudy starting in the morning.  2016   \n",
      "96452               1016.16  Partly cloudy starting in the morning.  2016   \n",
      "\n",
      "       Month  Day  DayOfWeek  \n",
      "0          3   31          4  \n",
      "1          3   31          4  \n",
      "2          4    1          5  \n",
      "3          4    1          5  \n",
      "4          4    1          5  \n",
      "...      ...  ...        ...  \n",
      "96448      9    9          4  \n",
      "96449      9    9          4  \n",
      "96450      9    9          4  \n",
      "96451      9    9          4  \n",
      "96452      9    9          4  \n",
      "\n",
      "[96453 rows x 16 columns]\n"
     ]
    }
   ],
   "source": [
    "import pandas as pd\n",
    "\n",
    "\n",
    "# Step 1: Convert 'Date' column to datetime (with timezone-aware datetime) using utc=True\n",
    "df['Formatted Date'] = pd.to_datetime(df['Formatted Date'], utc=True)\n",
    "\n",
    "# Step 2: Check the DataFrame\n",
    "print(df)\n",
    "\n",
    "# Step 3: Extract Year, Month, Day, and DayOfWeek using .dt\n",
    "df['Year'] = df['Formatted Date'].dt.year\n",
    "df['Month'] = df['Formatted Date'].dt.month\n",
    "df['Day'] = df['Formatted Date'].dt.day\n",
    "df['DayOfWeek'] = df['Formatted Date'].dt.dayofweek\n",
    "\n",
    "# Step 4: Display the DataFrame\n",
    "print(df)\n"
   ]
  },
  {
   "cell_type": "markdown",
   "id": "8bcfc3bf-ea49-4c0f-ae44-7eb549f87105",
   "metadata": {},
   "source": [
    "# Encoding the Precip Type column"
   ]
  },
  {
   "cell_type": "code",
   "execution_count": 26,
   "id": "e4962db5-bd59-4be6-8da6-4d750bf56faf",
   "metadata": {},
   "outputs": [
    {
     "data": {
      "text/plain": [
       "array(['rain', 'snow'], dtype=object)"
      ]
     },
     "execution_count": 26,
     "metadata": {},
     "output_type": "execute_result"
    }
   ],
   "source": [
    "df['Precip Type'].unique()"
   ]
  },
  {
   "cell_type": "markdown",
   "id": "2b3fae49-12d2-4225-aeec-22537943877b",
   "metadata": {},
   "source": [
    "# One hot encoding"
   ]
  },
  {
   "cell_type": "code",
   "execution_count": 29,
   "id": "ade2f6ad-10b6-4efe-a766-765309dc8129",
   "metadata": {},
   "outputs": [
    {
     "data": {
      "text/html": [
       "<div>\n",
       "<style scoped>\n",
       "    .dataframe tbody tr th:only-of-type {\n",
       "        vertical-align: middle;\n",
       "    }\n",
       "\n",
       "    .dataframe tbody tr th {\n",
       "        vertical-align: top;\n",
       "    }\n",
       "\n",
       "    .dataframe thead th {\n",
       "        text-align: right;\n",
       "    }\n",
       "</style>\n",
       "<table border=\"1\" class=\"dataframe\">\n",
       "  <thead>\n",
       "    <tr style=\"text-align: right;\">\n",
       "      <th></th>\n",
       "      <th>Formatted Date</th>\n",
       "      <th>Summary</th>\n",
       "      <th>Temperature (C)</th>\n",
       "      <th>Apparent Temperature (C)</th>\n",
       "      <th>Humidity</th>\n",
       "      <th>Wind Speed (km/h)</th>\n",
       "      <th>Wind Bearing (degrees)</th>\n",
       "      <th>Visibility (km)</th>\n",
       "      <th>Loud Cover</th>\n",
       "      <th>Pressure (millibars)</th>\n",
       "      <th>Daily Summary</th>\n",
       "      <th>Year</th>\n",
       "      <th>Month</th>\n",
       "      <th>Day</th>\n",
       "      <th>DayOfWeek</th>\n",
       "      <th>Precip Type_rain</th>\n",
       "      <th>Precip Type_snow</th>\n",
       "    </tr>\n",
       "  </thead>\n",
       "  <tbody>\n",
       "    <tr>\n",
       "      <th>0</th>\n",
       "      <td>2006-03-31 22:00:00+00:00</td>\n",
       "      <td>Partly Cloudy</td>\n",
       "      <td>9.472222</td>\n",
       "      <td>7.388889</td>\n",
       "      <td>0.89</td>\n",
       "      <td>14.1197</td>\n",
       "      <td>251.0</td>\n",
       "      <td>15.8263</td>\n",
       "      <td>0.0</td>\n",
       "      <td>1015.13</td>\n",
       "      <td>Partly cloudy throughout the day.</td>\n",
       "      <td>2006</td>\n",
       "      <td>3</td>\n",
       "      <td>31</td>\n",
       "      <td>4</td>\n",
       "      <td>True</td>\n",
       "      <td>False</td>\n",
       "    </tr>\n",
       "    <tr>\n",
       "      <th>1</th>\n",
       "      <td>2006-03-31 23:00:00+00:00</td>\n",
       "      <td>Partly Cloudy</td>\n",
       "      <td>9.355556</td>\n",
       "      <td>7.227778</td>\n",
       "      <td>0.86</td>\n",
       "      <td>14.2646</td>\n",
       "      <td>259.0</td>\n",
       "      <td>15.8263</td>\n",
       "      <td>0.0</td>\n",
       "      <td>1015.63</td>\n",
       "      <td>Partly cloudy throughout the day.</td>\n",
       "      <td>2006</td>\n",
       "      <td>3</td>\n",
       "      <td>31</td>\n",
       "      <td>4</td>\n",
       "      <td>True</td>\n",
       "      <td>False</td>\n",
       "    </tr>\n",
       "    <tr>\n",
       "      <th>2</th>\n",
       "      <td>2006-04-01 00:00:00+00:00</td>\n",
       "      <td>Mostly Cloudy</td>\n",
       "      <td>9.377778</td>\n",
       "      <td>9.377778</td>\n",
       "      <td>0.89</td>\n",
       "      <td>3.9284</td>\n",
       "      <td>204.0</td>\n",
       "      <td>14.9569</td>\n",
       "      <td>0.0</td>\n",
       "      <td>1015.94</td>\n",
       "      <td>Partly cloudy throughout the day.</td>\n",
       "      <td>2006</td>\n",
       "      <td>4</td>\n",
       "      <td>1</td>\n",
       "      <td>5</td>\n",
       "      <td>True</td>\n",
       "      <td>False</td>\n",
       "    </tr>\n",
       "    <tr>\n",
       "      <th>3</th>\n",
       "      <td>2006-04-01 01:00:00+00:00</td>\n",
       "      <td>Partly Cloudy</td>\n",
       "      <td>8.288889</td>\n",
       "      <td>5.944444</td>\n",
       "      <td>0.83</td>\n",
       "      <td>14.1036</td>\n",
       "      <td>269.0</td>\n",
       "      <td>15.8263</td>\n",
       "      <td>0.0</td>\n",
       "      <td>1016.41</td>\n",
       "      <td>Partly cloudy throughout the day.</td>\n",
       "      <td>2006</td>\n",
       "      <td>4</td>\n",
       "      <td>1</td>\n",
       "      <td>5</td>\n",
       "      <td>True</td>\n",
       "      <td>False</td>\n",
       "    </tr>\n",
       "    <tr>\n",
       "      <th>4</th>\n",
       "      <td>2006-04-01 02:00:00+00:00</td>\n",
       "      <td>Mostly Cloudy</td>\n",
       "      <td>8.755556</td>\n",
       "      <td>6.977778</td>\n",
       "      <td>0.83</td>\n",
       "      <td>11.0446</td>\n",
       "      <td>259.0</td>\n",
       "      <td>15.8263</td>\n",
       "      <td>0.0</td>\n",
       "      <td>1016.51</td>\n",
       "      <td>Partly cloudy throughout the day.</td>\n",
       "      <td>2006</td>\n",
       "      <td>4</td>\n",
       "      <td>1</td>\n",
       "      <td>5</td>\n",
       "      <td>True</td>\n",
       "      <td>False</td>\n",
       "    </tr>\n",
       "    <tr>\n",
       "      <th>...</th>\n",
       "      <td>...</td>\n",
       "      <td>...</td>\n",
       "      <td>...</td>\n",
       "      <td>...</td>\n",
       "      <td>...</td>\n",
       "      <td>...</td>\n",
       "      <td>...</td>\n",
       "      <td>...</td>\n",
       "      <td>...</td>\n",
       "      <td>...</td>\n",
       "      <td>...</td>\n",
       "      <td>...</td>\n",
       "      <td>...</td>\n",
       "      <td>...</td>\n",
       "      <td>...</td>\n",
       "      <td>...</td>\n",
       "      <td>...</td>\n",
       "    </tr>\n",
       "    <tr>\n",
       "      <th>96448</th>\n",
       "      <td>2016-09-09 17:00:00+00:00</td>\n",
       "      <td>Partly Cloudy</td>\n",
       "      <td>26.016667</td>\n",
       "      <td>26.016667</td>\n",
       "      <td>0.43</td>\n",
       "      <td>10.9963</td>\n",
       "      <td>31.0</td>\n",
       "      <td>16.1000</td>\n",
       "      <td>0.0</td>\n",
       "      <td>1014.36</td>\n",
       "      <td>Partly cloudy starting in the morning.</td>\n",
       "      <td>2016</td>\n",
       "      <td>9</td>\n",
       "      <td>9</td>\n",
       "      <td>4</td>\n",
       "      <td>True</td>\n",
       "      <td>False</td>\n",
       "    </tr>\n",
       "    <tr>\n",
       "      <th>96449</th>\n",
       "      <td>2016-09-09 18:00:00+00:00</td>\n",
       "      <td>Partly Cloudy</td>\n",
       "      <td>24.583333</td>\n",
       "      <td>24.583333</td>\n",
       "      <td>0.48</td>\n",
       "      <td>10.0947</td>\n",
       "      <td>20.0</td>\n",
       "      <td>15.5526</td>\n",
       "      <td>0.0</td>\n",
       "      <td>1015.16</td>\n",
       "      <td>Partly cloudy starting in the morning.</td>\n",
       "      <td>2016</td>\n",
       "      <td>9</td>\n",
       "      <td>9</td>\n",
       "      <td>4</td>\n",
       "      <td>True</td>\n",
       "      <td>False</td>\n",
       "    </tr>\n",
       "    <tr>\n",
       "      <th>96450</th>\n",
       "      <td>2016-09-09 19:00:00+00:00</td>\n",
       "      <td>Partly Cloudy</td>\n",
       "      <td>22.038889</td>\n",
       "      <td>22.038889</td>\n",
       "      <td>0.56</td>\n",
       "      <td>8.9838</td>\n",
       "      <td>30.0</td>\n",
       "      <td>16.1000</td>\n",
       "      <td>0.0</td>\n",
       "      <td>1015.66</td>\n",
       "      <td>Partly cloudy starting in the morning.</td>\n",
       "      <td>2016</td>\n",
       "      <td>9</td>\n",
       "      <td>9</td>\n",
       "      <td>4</td>\n",
       "      <td>True</td>\n",
       "      <td>False</td>\n",
       "    </tr>\n",
       "    <tr>\n",
       "      <th>96451</th>\n",
       "      <td>2016-09-09 20:00:00+00:00</td>\n",
       "      <td>Partly Cloudy</td>\n",
       "      <td>21.522222</td>\n",
       "      <td>21.522222</td>\n",
       "      <td>0.60</td>\n",
       "      <td>10.5294</td>\n",
       "      <td>20.0</td>\n",
       "      <td>16.1000</td>\n",
       "      <td>0.0</td>\n",
       "      <td>1015.95</td>\n",
       "      <td>Partly cloudy starting in the morning.</td>\n",
       "      <td>2016</td>\n",
       "      <td>9</td>\n",
       "      <td>9</td>\n",
       "      <td>4</td>\n",
       "      <td>True</td>\n",
       "      <td>False</td>\n",
       "    </tr>\n",
       "    <tr>\n",
       "      <th>96452</th>\n",
       "      <td>2016-09-09 21:00:00+00:00</td>\n",
       "      <td>Partly Cloudy</td>\n",
       "      <td>20.438889</td>\n",
       "      <td>20.438889</td>\n",
       "      <td>0.61</td>\n",
       "      <td>5.8765</td>\n",
       "      <td>39.0</td>\n",
       "      <td>15.5204</td>\n",
       "      <td>0.0</td>\n",
       "      <td>1016.16</td>\n",
       "      <td>Partly cloudy starting in the morning.</td>\n",
       "      <td>2016</td>\n",
       "      <td>9</td>\n",
       "      <td>9</td>\n",
       "      <td>4</td>\n",
       "      <td>True</td>\n",
       "      <td>False</td>\n",
       "    </tr>\n",
       "  </tbody>\n",
       "</table>\n",
       "<p>96453 rows × 17 columns</p>\n",
       "</div>"
      ],
      "text/plain": [
       "                 Formatted Date        Summary  Temperature (C)  \\\n",
       "0     2006-03-31 22:00:00+00:00  Partly Cloudy         9.472222   \n",
       "1     2006-03-31 23:00:00+00:00  Partly Cloudy         9.355556   \n",
       "2     2006-04-01 00:00:00+00:00  Mostly Cloudy         9.377778   \n",
       "3     2006-04-01 01:00:00+00:00  Partly Cloudy         8.288889   \n",
       "4     2006-04-01 02:00:00+00:00  Mostly Cloudy         8.755556   \n",
       "...                         ...            ...              ...   \n",
       "96448 2016-09-09 17:00:00+00:00  Partly Cloudy        26.016667   \n",
       "96449 2016-09-09 18:00:00+00:00  Partly Cloudy        24.583333   \n",
       "96450 2016-09-09 19:00:00+00:00  Partly Cloudy        22.038889   \n",
       "96451 2016-09-09 20:00:00+00:00  Partly Cloudy        21.522222   \n",
       "96452 2016-09-09 21:00:00+00:00  Partly Cloudy        20.438889   \n",
       "\n",
       "       Apparent Temperature (C)  Humidity  Wind Speed (km/h)  \\\n",
       "0                      7.388889      0.89            14.1197   \n",
       "1                      7.227778      0.86            14.2646   \n",
       "2                      9.377778      0.89             3.9284   \n",
       "3                      5.944444      0.83            14.1036   \n",
       "4                      6.977778      0.83            11.0446   \n",
       "...                         ...       ...                ...   \n",
       "96448                 26.016667      0.43            10.9963   \n",
       "96449                 24.583333      0.48            10.0947   \n",
       "96450                 22.038889      0.56             8.9838   \n",
       "96451                 21.522222      0.60            10.5294   \n",
       "96452                 20.438889      0.61             5.8765   \n",
       "\n",
       "       Wind Bearing (degrees)  Visibility (km)  Loud Cover  \\\n",
       "0                       251.0          15.8263         0.0   \n",
       "1                       259.0          15.8263         0.0   \n",
       "2                       204.0          14.9569         0.0   \n",
       "3                       269.0          15.8263         0.0   \n",
       "4                       259.0          15.8263         0.0   \n",
       "...                       ...              ...         ...   \n",
       "96448                    31.0          16.1000         0.0   \n",
       "96449                    20.0          15.5526         0.0   \n",
       "96450                    30.0          16.1000         0.0   \n",
       "96451                    20.0          16.1000         0.0   \n",
       "96452                    39.0          15.5204         0.0   \n",
       "\n",
       "       Pressure (millibars)                           Daily Summary  Year  \\\n",
       "0                   1015.13       Partly cloudy throughout the day.  2006   \n",
       "1                   1015.63       Partly cloudy throughout the day.  2006   \n",
       "2                   1015.94       Partly cloudy throughout the day.  2006   \n",
       "3                   1016.41       Partly cloudy throughout the day.  2006   \n",
       "4                   1016.51       Partly cloudy throughout the day.  2006   \n",
       "...                     ...                                     ...   ...   \n",
       "96448               1014.36  Partly cloudy starting in the morning.  2016   \n",
       "96449               1015.16  Partly cloudy starting in the morning.  2016   \n",
       "96450               1015.66  Partly cloudy starting in the morning.  2016   \n",
       "96451               1015.95  Partly cloudy starting in the morning.  2016   \n",
       "96452               1016.16  Partly cloudy starting in the morning.  2016   \n",
       "\n",
       "       Month  Day  DayOfWeek  Precip Type_rain  Precip Type_snow  \n",
       "0          3   31          4              True             False  \n",
       "1          3   31          4              True             False  \n",
       "2          4    1          5              True             False  \n",
       "3          4    1          5              True             False  \n",
       "4          4    1          5              True             False  \n",
       "...      ...  ...        ...               ...               ...  \n",
       "96448      9    9          4              True             False  \n",
       "96449      9    9          4              True             False  \n",
       "96450      9    9          4              True             False  \n",
       "96451      9    9          4              True             False  \n",
       "96452      9    9          4              True             False  \n",
       "\n",
       "[96453 rows x 17 columns]"
      ]
     },
     "execution_count": 29,
     "metadata": {},
     "output_type": "execute_result"
    }
   ],
   "source": [
    "df = pd.get_dummies(df, columns=['Precip Type'])\n",
    "df"
   ]
  },
  {
   "cell_type": "markdown",
   "id": "3efbfaa9-3fc8-419c-9a91-9616543ec4d1",
   "metadata": {},
   "source": [
    "# Mapping categoric to numeric"
   ]
  },
  {
   "cell_type": "code",
   "execution_count": 32,
   "id": "796f6f80-6cf4-490f-943f-07186c1bd7bc",
   "metadata": {},
   "outputs": [],
   "source": [
    "df['Precip Type_rain'] = df['Precip Type_rain'].map({True: 1, False: 0})\n",
    "df['Precip Type_snow'] = df['Precip Type_snow'].map({True: 1, False: 0})"
   ]
  },
  {
   "cell_type": "code",
   "execution_count": 34,
   "id": "a97967f6-cecb-472a-b2fb-fe294a6a3ce5",
   "metadata": {},
   "outputs": [
    {
     "data": {
      "text/html": [
       "<div>\n",
       "<style scoped>\n",
       "    .dataframe tbody tr th:only-of-type {\n",
       "        vertical-align: middle;\n",
       "    }\n",
       "\n",
       "    .dataframe tbody tr th {\n",
       "        vertical-align: top;\n",
       "    }\n",
       "\n",
       "    .dataframe thead th {\n",
       "        text-align: right;\n",
       "    }\n",
       "</style>\n",
       "<table border=\"1\" class=\"dataframe\">\n",
       "  <thead>\n",
       "    <tr style=\"text-align: right;\">\n",
       "      <th></th>\n",
       "      <th>Formatted Date</th>\n",
       "      <th>Summary</th>\n",
       "      <th>Temperature (C)</th>\n",
       "      <th>Apparent Temperature (C)</th>\n",
       "      <th>Humidity</th>\n",
       "      <th>Wind Speed (km/h)</th>\n",
       "      <th>Wind Bearing (degrees)</th>\n",
       "      <th>Visibility (km)</th>\n",
       "      <th>Loud Cover</th>\n",
       "      <th>Pressure (millibars)</th>\n",
       "      <th>Daily Summary</th>\n",
       "      <th>Year</th>\n",
       "      <th>Month</th>\n",
       "      <th>Day</th>\n",
       "      <th>DayOfWeek</th>\n",
       "      <th>Precip Type_rain</th>\n",
       "      <th>Precip Type_snow</th>\n",
       "    </tr>\n",
       "  </thead>\n",
       "  <tbody>\n",
       "    <tr>\n",
       "      <th>0</th>\n",
       "      <td>2006-03-31 22:00:00+00:00</td>\n",
       "      <td>Partly Cloudy</td>\n",
       "      <td>9.472222</td>\n",
       "      <td>7.388889</td>\n",
       "      <td>0.89</td>\n",
       "      <td>14.1197</td>\n",
       "      <td>251.0</td>\n",
       "      <td>15.8263</td>\n",
       "      <td>0.0</td>\n",
       "      <td>1015.13</td>\n",
       "      <td>Partly cloudy throughout the day.</td>\n",
       "      <td>2006</td>\n",
       "      <td>3</td>\n",
       "      <td>31</td>\n",
       "      <td>4</td>\n",
       "      <td>1</td>\n",
       "      <td>0</td>\n",
       "    </tr>\n",
       "    <tr>\n",
       "      <th>1</th>\n",
       "      <td>2006-03-31 23:00:00+00:00</td>\n",
       "      <td>Partly Cloudy</td>\n",
       "      <td>9.355556</td>\n",
       "      <td>7.227778</td>\n",
       "      <td>0.86</td>\n",
       "      <td>14.2646</td>\n",
       "      <td>259.0</td>\n",
       "      <td>15.8263</td>\n",
       "      <td>0.0</td>\n",
       "      <td>1015.63</td>\n",
       "      <td>Partly cloudy throughout the day.</td>\n",
       "      <td>2006</td>\n",
       "      <td>3</td>\n",
       "      <td>31</td>\n",
       "      <td>4</td>\n",
       "      <td>1</td>\n",
       "      <td>0</td>\n",
       "    </tr>\n",
       "    <tr>\n",
       "      <th>2</th>\n",
       "      <td>2006-04-01 00:00:00+00:00</td>\n",
       "      <td>Mostly Cloudy</td>\n",
       "      <td>9.377778</td>\n",
       "      <td>9.377778</td>\n",
       "      <td>0.89</td>\n",
       "      <td>3.9284</td>\n",
       "      <td>204.0</td>\n",
       "      <td>14.9569</td>\n",
       "      <td>0.0</td>\n",
       "      <td>1015.94</td>\n",
       "      <td>Partly cloudy throughout the day.</td>\n",
       "      <td>2006</td>\n",
       "      <td>4</td>\n",
       "      <td>1</td>\n",
       "      <td>5</td>\n",
       "      <td>1</td>\n",
       "      <td>0</td>\n",
       "    </tr>\n",
       "    <tr>\n",
       "      <th>3</th>\n",
       "      <td>2006-04-01 01:00:00+00:00</td>\n",
       "      <td>Partly Cloudy</td>\n",
       "      <td>8.288889</td>\n",
       "      <td>5.944444</td>\n",
       "      <td>0.83</td>\n",
       "      <td>14.1036</td>\n",
       "      <td>269.0</td>\n",
       "      <td>15.8263</td>\n",
       "      <td>0.0</td>\n",
       "      <td>1016.41</td>\n",
       "      <td>Partly cloudy throughout the day.</td>\n",
       "      <td>2006</td>\n",
       "      <td>4</td>\n",
       "      <td>1</td>\n",
       "      <td>5</td>\n",
       "      <td>1</td>\n",
       "      <td>0</td>\n",
       "    </tr>\n",
       "    <tr>\n",
       "      <th>4</th>\n",
       "      <td>2006-04-01 02:00:00+00:00</td>\n",
       "      <td>Mostly Cloudy</td>\n",
       "      <td>8.755556</td>\n",
       "      <td>6.977778</td>\n",
       "      <td>0.83</td>\n",
       "      <td>11.0446</td>\n",
       "      <td>259.0</td>\n",
       "      <td>15.8263</td>\n",
       "      <td>0.0</td>\n",
       "      <td>1016.51</td>\n",
       "      <td>Partly cloudy throughout the day.</td>\n",
       "      <td>2006</td>\n",
       "      <td>4</td>\n",
       "      <td>1</td>\n",
       "      <td>5</td>\n",
       "      <td>1</td>\n",
       "      <td>0</td>\n",
       "    </tr>\n",
       "    <tr>\n",
       "      <th>...</th>\n",
       "      <td>...</td>\n",
       "      <td>...</td>\n",
       "      <td>...</td>\n",
       "      <td>...</td>\n",
       "      <td>...</td>\n",
       "      <td>...</td>\n",
       "      <td>...</td>\n",
       "      <td>...</td>\n",
       "      <td>...</td>\n",
       "      <td>...</td>\n",
       "      <td>...</td>\n",
       "      <td>...</td>\n",
       "      <td>...</td>\n",
       "      <td>...</td>\n",
       "      <td>...</td>\n",
       "      <td>...</td>\n",
       "      <td>...</td>\n",
       "    </tr>\n",
       "    <tr>\n",
       "      <th>96448</th>\n",
       "      <td>2016-09-09 17:00:00+00:00</td>\n",
       "      <td>Partly Cloudy</td>\n",
       "      <td>26.016667</td>\n",
       "      <td>26.016667</td>\n",
       "      <td>0.43</td>\n",
       "      <td>10.9963</td>\n",
       "      <td>31.0</td>\n",
       "      <td>16.1000</td>\n",
       "      <td>0.0</td>\n",
       "      <td>1014.36</td>\n",
       "      <td>Partly cloudy starting in the morning.</td>\n",
       "      <td>2016</td>\n",
       "      <td>9</td>\n",
       "      <td>9</td>\n",
       "      <td>4</td>\n",
       "      <td>1</td>\n",
       "      <td>0</td>\n",
       "    </tr>\n",
       "    <tr>\n",
       "      <th>96449</th>\n",
       "      <td>2016-09-09 18:00:00+00:00</td>\n",
       "      <td>Partly Cloudy</td>\n",
       "      <td>24.583333</td>\n",
       "      <td>24.583333</td>\n",
       "      <td>0.48</td>\n",
       "      <td>10.0947</td>\n",
       "      <td>20.0</td>\n",
       "      <td>15.5526</td>\n",
       "      <td>0.0</td>\n",
       "      <td>1015.16</td>\n",
       "      <td>Partly cloudy starting in the morning.</td>\n",
       "      <td>2016</td>\n",
       "      <td>9</td>\n",
       "      <td>9</td>\n",
       "      <td>4</td>\n",
       "      <td>1</td>\n",
       "      <td>0</td>\n",
       "    </tr>\n",
       "    <tr>\n",
       "      <th>96450</th>\n",
       "      <td>2016-09-09 19:00:00+00:00</td>\n",
       "      <td>Partly Cloudy</td>\n",
       "      <td>22.038889</td>\n",
       "      <td>22.038889</td>\n",
       "      <td>0.56</td>\n",
       "      <td>8.9838</td>\n",
       "      <td>30.0</td>\n",
       "      <td>16.1000</td>\n",
       "      <td>0.0</td>\n",
       "      <td>1015.66</td>\n",
       "      <td>Partly cloudy starting in the morning.</td>\n",
       "      <td>2016</td>\n",
       "      <td>9</td>\n",
       "      <td>9</td>\n",
       "      <td>4</td>\n",
       "      <td>1</td>\n",
       "      <td>0</td>\n",
       "    </tr>\n",
       "    <tr>\n",
       "      <th>96451</th>\n",
       "      <td>2016-09-09 20:00:00+00:00</td>\n",
       "      <td>Partly Cloudy</td>\n",
       "      <td>21.522222</td>\n",
       "      <td>21.522222</td>\n",
       "      <td>0.60</td>\n",
       "      <td>10.5294</td>\n",
       "      <td>20.0</td>\n",
       "      <td>16.1000</td>\n",
       "      <td>0.0</td>\n",
       "      <td>1015.95</td>\n",
       "      <td>Partly cloudy starting in the morning.</td>\n",
       "      <td>2016</td>\n",
       "      <td>9</td>\n",
       "      <td>9</td>\n",
       "      <td>4</td>\n",
       "      <td>1</td>\n",
       "      <td>0</td>\n",
       "    </tr>\n",
       "    <tr>\n",
       "      <th>96452</th>\n",
       "      <td>2016-09-09 21:00:00+00:00</td>\n",
       "      <td>Partly Cloudy</td>\n",
       "      <td>20.438889</td>\n",
       "      <td>20.438889</td>\n",
       "      <td>0.61</td>\n",
       "      <td>5.8765</td>\n",
       "      <td>39.0</td>\n",
       "      <td>15.5204</td>\n",
       "      <td>0.0</td>\n",
       "      <td>1016.16</td>\n",
       "      <td>Partly cloudy starting in the morning.</td>\n",
       "      <td>2016</td>\n",
       "      <td>9</td>\n",
       "      <td>9</td>\n",
       "      <td>4</td>\n",
       "      <td>1</td>\n",
       "      <td>0</td>\n",
       "    </tr>\n",
       "  </tbody>\n",
       "</table>\n",
       "<p>96453 rows × 17 columns</p>\n",
       "</div>"
      ],
      "text/plain": [
       "                 Formatted Date        Summary  Temperature (C)  \\\n",
       "0     2006-03-31 22:00:00+00:00  Partly Cloudy         9.472222   \n",
       "1     2006-03-31 23:00:00+00:00  Partly Cloudy         9.355556   \n",
       "2     2006-04-01 00:00:00+00:00  Mostly Cloudy         9.377778   \n",
       "3     2006-04-01 01:00:00+00:00  Partly Cloudy         8.288889   \n",
       "4     2006-04-01 02:00:00+00:00  Mostly Cloudy         8.755556   \n",
       "...                         ...            ...              ...   \n",
       "96448 2016-09-09 17:00:00+00:00  Partly Cloudy        26.016667   \n",
       "96449 2016-09-09 18:00:00+00:00  Partly Cloudy        24.583333   \n",
       "96450 2016-09-09 19:00:00+00:00  Partly Cloudy        22.038889   \n",
       "96451 2016-09-09 20:00:00+00:00  Partly Cloudy        21.522222   \n",
       "96452 2016-09-09 21:00:00+00:00  Partly Cloudy        20.438889   \n",
       "\n",
       "       Apparent Temperature (C)  Humidity  Wind Speed (km/h)  \\\n",
       "0                      7.388889      0.89            14.1197   \n",
       "1                      7.227778      0.86            14.2646   \n",
       "2                      9.377778      0.89             3.9284   \n",
       "3                      5.944444      0.83            14.1036   \n",
       "4                      6.977778      0.83            11.0446   \n",
       "...                         ...       ...                ...   \n",
       "96448                 26.016667      0.43            10.9963   \n",
       "96449                 24.583333      0.48            10.0947   \n",
       "96450                 22.038889      0.56             8.9838   \n",
       "96451                 21.522222      0.60            10.5294   \n",
       "96452                 20.438889      0.61             5.8765   \n",
       "\n",
       "       Wind Bearing (degrees)  Visibility (km)  Loud Cover  \\\n",
       "0                       251.0          15.8263         0.0   \n",
       "1                       259.0          15.8263         0.0   \n",
       "2                       204.0          14.9569         0.0   \n",
       "3                       269.0          15.8263         0.0   \n",
       "4                       259.0          15.8263         0.0   \n",
       "...                       ...              ...         ...   \n",
       "96448                    31.0          16.1000         0.0   \n",
       "96449                    20.0          15.5526         0.0   \n",
       "96450                    30.0          16.1000         0.0   \n",
       "96451                    20.0          16.1000         0.0   \n",
       "96452                    39.0          15.5204         0.0   \n",
       "\n",
       "       Pressure (millibars)                           Daily Summary  Year  \\\n",
       "0                   1015.13       Partly cloudy throughout the day.  2006   \n",
       "1                   1015.63       Partly cloudy throughout the day.  2006   \n",
       "2                   1015.94       Partly cloudy throughout the day.  2006   \n",
       "3                   1016.41       Partly cloudy throughout the day.  2006   \n",
       "4                   1016.51       Partly cloudy throughout the day.  2006   \n",
       "...                     ...                                     ...   ...   \n",
       "96448               1014.36  Partly cloudy starting in the morning.  2016   \n",
       "96449               1015.16  Partly cloudy starting in the morning.  2016   \n",
       "96450               1015.66  Partly cloudy starting in the morning.  2016   \n",
       "96451               1015.95  Partly cloudy starting in the morning.  2016   \n",
       "96452               1016.16  Partly cloudy starting in the morning.  2016   \n",
       "\n",
       "       Month  Day  DayOfWeek  Precip Type_rain  Precip Type_snow  \n",
       "0          3   31          4                 1                 0  \n",
       "1          3   31          4                 1                 0  \n",
       "2          4    1          5                 1                 0  \n",
       "3          4    1          5                 1                 0  \n",
       "4          4    1          5                 1                 0  \n",
       "...      ...  ...        ...               ...               ...  \n",
       "96448      9    9          4                 1                 0  \n",
       "96449      9    9          4                 1                 0  \n",
       "96450      9    9          4                 1                 0  \n",
       "96451      9    9          4                 1                 0  \n",
       "96452      9    9          4                 1                 0  \n",
       "\n",
       "[96453 rows x 17 columns]"
      ]
     },
     "execution_count": 34,
     "metadata": {},
     "output_type": "execute_result"
    }
   ],
   "source": [
    "df"
   ]
  },
  {
   "cell_type": "markdown",
   "id": "004ed5dd-91b5-4802-bd61-9c3237d0aa1e",
   "metadata": {},
   "source": [
    "# Handling Outliers"
   ]
  },
  {
   "cell_type": "code",
   "execution_count": 37,
   "id": "b8b2e926-4fce-49d6-adb4-7a7aeab282d5",
   "metadata": {},
   "outputs": [
    {
     "data": {
      "image/png": "[encoded data removed]",
      "text/plain": [
       "<Figure size 640x480 with 1 Axes>"
      ]
     },
     "metadata": {},
     "output_type": "display_data"
    }
   ],
   "source": [
    "sns.boxplot(df[\"Humidity\"])\n",
    "plt.show()"
   ]
  },
  {
   "cell_type": "code",
   "execution_count": 40,
   "id": "1fac9eed-de70-4d4e-94cb-7e4db18cdda9",
   "metadata": {},
   "outputs": [
    {
     "data": {
      "image/png": "[encoded data removed]",
      "text/plain": [
       "<Figure size 640x480 with 1 Axes>"
      ]
     },
     "metadata": {},
     "output_type": "display_data"
    }
   ],
   "source": [
    "sns.boxplot(df[\"Temperature (C)\"])\n",
    "plt.show()"
   ]
  },
  {
   "cell_type": "code",
   "execution_count": 42,
   "id": "bc726351-de86-4265-9c65-f63a47d622d0",
   "metadata": {},
   "outputs": [
    {
     "data": {
      "image/png": "[encoded data removed]",
      "text/plain": [
       "<Figure size 640x480 with 1 Axes>"
      ]
     },
     "metadata": {},
     "output_type": "display_data"
    }
   ],
   "source": [
    "sns.boxplot(df[\"Wind Speed (km/h)\"])\n",
    "plt.show()"
   ]
  },
  {
   "cell_type": "code",
   "execution_count": 44,
   "id": "dc19d37b-4d1e-4517-83e4-970c9b5d6960",
   "metadata": {},
   "outputs": [
    {
     "data": {
      "image/png": "[encoded data removed]",
      "text/plain": [
       "<Figure size 640x480 with 1 Axes>"
      ]
     },
     "metadata": {},
     "output_type": "display_data"
    }
   ],
   "source": [
    "sns.boxplot(df[\"Pressure (millibars)\"])\n",
    "plt.show()"
   ]
  },
  {
   "cell_type": "code",
   "execution_count": 48,
   "id": "c693aa8d-655b-4504-b5b5-8a92c4f18da5",
   "metadata": {},
   "outputs": [
    {
     "data": {
      "image/png": "[encoded data removed]",
      "text/plain": [
       "<Figure size 640x480 with 1 Axes>"
      ]
     },
     "metadata": {},
     "output_type": "display_data"
    }
   ],
   "source": [
    "sns.boxplot(df[\"Month\"])\n",
    "plt.show()"
   ]
  },
  {
   "cell_type": "code",
   "execution_count": 52,
   "id": "6a72694f-80c2-4572-ae65-7ff587a4dfb1",
   "metadata": {},
   "outputs": [
    {
     "data": {
      "image/png": "[encoded data removed]",
      "text/plain": [
       "<Figure size 640x480 with 1 Axes>"
      ]
     },
     "metadata": {},
     "output_type": "display_data"
    }
   ],
   "source": [
    "sns.boxplot(df[\"Year\"])\n",
    "plt.show()"
   ]
  },
  {
   "cell_type": "code",
   "execution_count": 54,
   "id": "52ba104f-da1c-4ed9-bca8-1a239ddc4f08",
   "metadata": {},
   "outputs": [
    {
     "data": {
      "image/png": "[encoded data removed]",
      "text/plain": [
       "<Figure size 640x480 with 1 Axes>"
      ]
     },
     "metadata": {},
     "output_type": "display_data"
    }
   ],
   "source": [
    "sns.boxplot(df[\"DayOfWeek\"])\n",
    "plt.show()"
   ]
  },
  {
   "cell_type": "code",
   "execution_count": 56,
   "id": "f4bbfd46-9e30-41d2-95bf-39d1b3abfba9",
   "metadata": {},
   "outputs": [
    {
     "data": {
      "image/png": "[encoded data removed]",
      "text/plain": [
       "<Figure size 640x480 with 1 Axes>"
      ]
     },
     "metadata": {},
     "output_type": "display_data"
    }
   ],
   "source": [
    "sns.boxplot(df[\"Day\"])\n",
    "plt.show()"
   ]
  },
  {
   "cell_type": "code",
   "execution_count": 60,
   "id": "3523156a-0af8-4bec-8eaa-ba7caaee2f9f",
   "metadata": {},
   "outputs": [],
   "source": [
    "Q1 = df['Humidity'].quantile(0.25)\n",
    "Q3 = df['Humidity'].quantile(0.75)\n",
    "IQR = Q3 - Q1\n",
    "lower_bound = Q1 - 1.5 * IQR\n",
    "upper_bound = Q3 + 1.5 * IQR\n",
    "df['Humidity'] = np.where(df['Humidity'] < lower_bound, lower_bound, df['Humidity'])\n",
    "df['Humidity'] = np.where(df['Humidity'] > upper_bound, upper_bound, df['Humidity'])"
   ]
  },
  {
   "cell_type": "code",
   "execution_count": 62,
   "id": "d5de77c7-23b9-4506-9543-691bd56796f4",
   "metadata": {},
   "outputs": [],
   "source": [
    "Q1 = df['Temperature (C)'].quantile(0.25)\n",
    "Q3 = df['Temperature (C)'].quantile(0.75)\n",
    "IQR = Q3 - Q1\n",
    "lower_bound = Q1 - 1.5 * IQR\n",
    "upper_bound = Q3 + 1.5 * IQR\n",
    "df['Temperature (C)'] = np.where(df['Temperature (C)'] < lower_bound, lower_bound, df['Temperature (C)'])\n",
    "df['Temperature (C)'] = np.where(df['Temperature (C)'] > upper_bound, upper_bound, df['Temperature (C)'])"
   ]
  },
  {
   "cell_type": "code",
   "execution_count": 64,
   "id": "3cbbfd16-545f-491c-a316-5bdf2531d023",
   "metadata": {},
   "outputs": [],
   "source": [
    "Q1 = df['Wind Speed (km/h)'].quantile(0.25)\n",
    "Q3 = df['Wind Speed (km/h)'].quantile(0.75)\n",
    "IQR = Q3 - Q1\n",
    "lower_bound = Q1 - 1.5 * IQR\n",
    "upper_bound = Q3 + 1.5 * IQR\n",
    "df['Wind Speed (km/h)'] = np.where(df['Wind Speed (km/h)'] < lower_bound, lower_bound, df['Wind Speed (km/h)'])\n",
    "df['Wind Speed (km/h)'] = np.where(df['Wind Speed (km/h)'] > upper_bound, upper_bound, df['Wind Speed (km/h)'])"
   ]
  },
  {
   "cell_type": "code",
   "execution_count": 66,
   "id": "df126c96-fed8-4dd1-b87b-5abf3b0b1aa3",
   "metadata": {},
   "outputs": [],
   "source": [
    "Q1 = df['Pressure (millibars)'].quantile(0.25)\n",
    "Q3 = df['Pressure (millibars)'].quantile(0.75)\n",
    "IQR = Q3 - Q1\n",
    "lower_bound = Q1 - 1.5 * IQR\n",
    "upper_bound = Q3 + 1.5 * IQR\n",
    "df['Pressure (millibars)'] = np.where(df['Pressure (millibars)'] < lower_bound, lower_bound, df['Pressure (millibars)'])\n",
    "df['Pressure (millibars)'] = np.where(df['Pressure (millibars)'] > upper_bound, upper_bound, df['Pressure (millibars)'])"
   ]
  },
  {
   "cell_type": "code",
   "execution_count": 68,
   "id": "01f3505a-54d6-41ca-b330-462bf2945d6a",
   "metadata": {},
   "outputs": [
    {
     "data": {
      "image/png": "[encoded data removed]",
      "text/plain": [
       "<Figure size 640x480 with 1 Axes>"
      ]
     },
     "metadata": {},
     "output_type": "display_data"
    }
   ],
   "source": [
    "sns.boxplot(df[\"Humidity\"])\n",
    "plt.show()"
   ]
  },
  {
   "cell_type": "code",
   "execution_count": 70,
   "id": "035ccd95-81db-49a9-83b0-ea78321cb705",
   "metadata": {},
   "outputs": [
    {
     "data": {
      "image/png": "[encoded data removed]",
      "text/plain": [
       "<Figure size 640x480 with 1 Axes>"
      ]
     },
     "metadata": {},
     "output_type": "display_data"
    }
   ],
   "source": [
    "sns.boxplot(df[\"Temperature (C)\"])\n",
    "plt.show()"
   ]
  },
  {
   "cell_type": "code",
   "execution_count": 72,
   "id": "8de3eef9-fe4a-4d3c-9529-75271f33116d",
   "metadata": {},
   "outputs": [
    {
     "data": {
      "image/png": "[encoded data removed]",
      "text/plain": [
       "<Figure size 640x480 with 1 Axes>"
      ]
     },
     "metadata": {},
     "output_type": "display_data"
    }
   ],
   "source": [
    "sns.boxplot(df[\"Wind Speed (km/h)\"])\n",
    "plt.show()"
   ]
  },
  {
   "cell_type": "code",
   "execution_count": 74,
   "id": "f31c6821-c81d-4dfc-8bee-a1b271b5b01c",
   "metadata": {},
   "outputs": [
    {
     "data": {
      "image/png": "[encoded data removed]",
      "text/plain": [
       "<Figure size 640x480 with 1 Axes>"
      ]
     },
     "metadata": {},
     "output_type": "display_data"
    }
   ],
   "source": [
    "sns.boxplot(df[\"Pressure (millibars)\"])\n",
    "plt.show()"
   ]
  },
  {
   "cell_type": "markdown",
   "id": "d4de165f-e32e-45e5-8874-92ed4faf1645",
   "metadata": {},
   "source": [
    "# Calculating Mean Temperature of each year"
   ]
  },
  {
   "cell_type": "code",
   "execution_count": 77,
   "id": "5a71afd1-158d-44d9-bbc8-34caf48557d6",
   "metadata": {},
   "outputs": [
    {
     "data": {
      "text/plain": [
       "Year\n",
       "2005     0.577778\n",
       "2006    11.215225\n",
       "2007    12.134677\n",
       "2008    12.161819\n",
       "2009    12.269712\n",
       "2010    11.200176\n",
       "2011    11.524934\n",
       "2012    11.997396\n",
       "2013    11.941017\n",
       "2014    12.528228\n",
       "2015    12.312088\n",
       "2016    11.987381\n",
       "Name: Temperature (C), dtype: float64"
      ]
     },
     "execution_count": 77,
     "metadata": {},
     "output_type": "execute_result"
    }
   ],
   "source": [
    "avg_temp = df.groupby('Year')['Temperature (C)'].mean()\n",
    "avg_temp"
   ]
  },
  {
   "cell_type": "markdown",
   "id": "acaeea58-a70a-4e30-9832-70d121eeb0fd",
   "metadata": {},
   "source": [
    "# Plot for Average Temperature vs Year"
   ]
  },
  {
   "cell_type": "code",
   "execution_count": 80,
   "id": "05c6a086-541a-4fdf-b230-37049560a758",
   "metadata": {},
   "outputs": [
    {
     "data": {
      "image/png": "[encoded data removed]",
      "text/plain": [
       "<Figure size 1000x600 with 1 Axes>"
      ]
     },
     "metadata": {},
     "output_type": "display_data"
    }
   ],
   "source": [
    "plt.figure(figsize=(10, 6))\n",
    "plt.plot(avg_temp, marker='o', linestyle='-', color='b', label='Avg Temperature')\n",
    "plt.title('Average Temperature Over Years')\n",
    "plt.xlabel('Year')\n",
    "plt.ylabel('Average Temperature (°C)')\n",
    "plt.grid(True)\n",
    "plt.legend()\n",
    "plt.show()"
   ]
  },
  {
   "cell_type": "markdown",
   "id": "9e14ee36-60fc-4739-841a-6d59429ab08e",
   "metadata": {},
   "source": [
    "# Step 4 : Feature Selection"
   ]
  },
  {
   "cell_type": "code",
   "execution_count": 83,
   "id": "0d0a84a3-e660-4089-a321-236ec470664c",
   "metadata": {},
   "outputs": [],
   "source": [
    "# Selecting the features and target variable\n",
    "X = df[['Humidity', 'Wind Speed (km/h)', 'Pressure (millibars)', 'Month', 'Day', 'DayOfWeek', 'Year', 'Precip Type_rain', 'Precip Type_snow']]  # Features\n",
    "y = df['Temperature (C)']"
   ]
  },
  {
   "cell_type": "markdown",
   "id": "7b0ec4fe-91e5-4ac1-b978-abe11cc605eb",
   "metadata": {},
   "source": [
    "# Step 5: Split Data into Training and Test Sets"
   ]
  },
  {
   "cell_type": "code",
   "execution_count": 86,
   "id": "e5a63b81-7d05-48ae-8a0c-c94097625742",
   "metadata": {},
   "outputs": [],
   "source": [
    "# Split the data into training and test sets (80-20 split)\n",
    "X_train, X_test, y_train, y_test = train_test_split(X, y, test_size=0.2, random_state=42)"
   ]
  },
  {
   "cell_type": "markdown",
   "id": "aba96391-0b7b-4316-aefa-5285fd6f9516",
   "metadata": {},
   "source": [
    "# Step 6: Scale the Data (Optional)"
   ]
  },
  {
   "cell_type": "code",
   "execution_count": 89,
   "id": "c42d4954-f390-4e23-bc7b-b469c0837a86",
   "metadata": {},
   "outputs": [],
   "source": [
    "scaler = StandardScaler()\n",
    "\n",
    "# Fit on training data and transform both train and test data\n",
    "X_train_scaled = scaler.fit_transform(X_train)\n",
    "X_test_scaled = scaler.transform(X_test)\n"
   ]
  },
  {
   "cell_type": "markdown",
   "id": "0b686c67-6700-4ac4-b960-1f815d90dbc7",
   "metadata": {},
   "source": [
    "# Step 7: Model Selection and Training"
   ]
  },
  {
   "cell_type": "markdown",
   "id": "e0b9d0aa-8256-4d2e-9746-f9560ef18570",
   "metadata": {},
   "source": [
    "# Linear Regression"
   ]
  },
  {
   "cell_type": "code",
   "execution_count": 93,
   "id": "d812fc26-eb0e-4f1f-8ea3-49b4bf6ddf2d",
   "metadata": {},
   "outputs": [],
   "source": [
    "# Initialize the Linear Regression model\n",
    "lr_model = LinearRegression()\n",
    "\n",
    "# Train the model on the training data\n",
    "lr_model.fit(X_train_scaled, y_train)\n",
    "\n",
    "# Predict on the test set\n",
    "y_pred_lr = lr_model.predict(X_test_scaled)"
   ]
  },
  {
   "cell_type": "markdown",
   "id": "5ecb9b1e-af08-4676-8757-e69da892e7e0",
   "metadata": {},
   "source": [
    "# Random Forest Regressor"
   ]
  },
  {
   "cell_type": "code",
   "execution_count": 96,
   "id": "f44f07af-5f13-412e-a4a3-41c07f989a11",
   "metadata": {},
   "outputs": [],
   "source": [
    "# Initialize the Random Forest Regressor model\n",
    "rf_model = RandomForestRegressor(n_estimators=100, random_state=42)\n",
    "\n",
    "# Train the model on the training data\n",
    "rf_model.fit(X_train, y_train)\n",
    "\n",
    "# Predict on the test set\n",
    "y_pred_rf = rf_model.predict(X_test)"
   ]
  },
  {
   "cell_type": "markdown",
   "id": "1ef646f6-5e02-409a-b1fb-45706c28e03c",
   "metadata": {},
   "source": [
    "# Step 8: Evaluate the Model"
   ]
  },
  {
   "cell_type": "code",
   "execution_count": 98,
   "id": "55371908-1bf6-49a0-a75e-2003a7803d2c",
   "metadata": {},
   "outputs": [],
   "source": [
    "# Linear Regression Evaluation\n",
    "mae_lr = mean_absolute_error(y_test, y_pred_lr)\n",
    "rmse_lr = np.sqrt(mean_squared_error(y_test, y_pred_lr))\n",
    "r2_lr = r2_score(y_test, y_pred_lr)\n",
    "\n",
    "# Random Forest Evaluation\n",
    "mae_rf = mean_absolute_error(y_test, y_pred_rf)\n",
    "rmse_rf = np.sqrt(mean_squared_error(y_test, y_pred_rf))\n",
    "r2_rf = r2_score(y_test, y_pred_rf)"
   ]
  },
  {
   "cell_type": "code",
   "execution_count": 99,
   "id": "2a87793e-c8f3-4922-a769-8232876f720a",
   "metadata": {},
   "outputs": [
    {
     "name": "stdout",
     "output_type": "stream",
     "text": [
      "Linear Regression - MAE: 4.541174191687934\n",
      "Linear Regression - RMSE: 5.593762545454751\n",
      "Linear Regression - R²: 0.6604096443972614\n",
      "\n",
      "Random Forest - MAE: 1.1506676752012024\n",
      "Random Forest - RMSE: 1.6052647279507593\n",
      "Random Forest - R²: 0.9720333388324416\n"
     ]
    }
   ],
   "source": [
    "print(\"Linear Regression - MAE:\", mae_lr)\n",
    "print(\"Linear Regression - RMSE:\", rmse_lr)\n",
    "print(\"Linear Regression - R²:\", r2_lr)\n",
    "\n",
    "print(\"\\nRandom Forest - MAE:\", mae_rf)\n",
    "print(\"Random Forest - RMSE:\", rmse_rf)\n",
    "print(\"Random Forest - R²:\", r2_rf)"
   ]
  },
  {
   "cell_type": "markdown",
   "id": "9fcd2239-3a54-41e3-ac2b-beb0da266fa6",
   "metadata": {},
   "source": [
    "# Step 9: Visualize Predictions vs. Actual Values"
   ]
  },
  {
   "cell_type": "code",
   "execution_count": 254,
   "id": "e4cf2a0b-13db-4d1a-946d-d20f8823bd0e",
   "metadata": {},
   "outputs": [
    {
     "data": {
      "image/png": "[encoded data removed]",
      "text/plain": [
       "<Figure size 1200x600 with 2 Axes>"
      ]
     },
     "metadata": {},
     "output_type": "display_data"
    }
   ],
   "source": [
    "# Plot predictions vs actual values\n",
    "plt.figure(figsize=(12, 6))\n",
    "\n",
    "# Plot for Linear Regression\n",
    "plt.subplot(1, 2, 1)\n",
    "plt.scatter(y_test, y_pred_lr, color='blue')\n",
    "plt.plot([min(y_test), max(y_test)], [min(y_test), max(y_test)], color='red', linestyle='--')\n",
    "plt.title('Linear Regression: Actual vs Predicted')\n",
    "plt.xlabel('Actual Temperature')\n",
    "plt.ylabel('Predicted Temperature')\n",
    "\n",
    "# Plot for Random Forest\n",
    "plt.subplot(1, 2, 2)\n",
    "plt.scatter(y_test, y_pred_rf, color='green')\n",
    "plt.plot([min(y_test), max(y_test)], [min(y_test), max(y_test)], color='red', linestyle='--')\n",
    "plt.title('Random Forest: Actual vs Predicted')\n",
    "plt.xlabel('Actual Temperature')\n",
    "plt.ylabel('Predicted Temperature')\n",
    "\n",
    "plt.tight_layout()\n",
    "plt.show()\n"
   ]
  },
  {
   "cell_type": "code",
   "execution_count": null,
   "id": "f0564433-923a-40e9-81b1-0cfb21d94be9",
   "metadata": {},
   "outputs": [],
   "source": []
  }
 ],
 "metadata": {
  "kernelspec": {
   "display_name": "Python 3 (ipykernel)",
   "language": "python",
   "name": "python3"
  },
  "language_info": {
   "codemirror_mode": {
    "name": "ipython",
    "version": 3
   },
   "file_extension": ".py",
   "mimetype": "text/x-python",
   "name": "python",
   "nbconvert_exporter": "python",
   "pygments_lexer": "ipython3",
   "version": "3.12.4"
  }
 },
 "nbformat": 4,
 "nbformat_minor": 5
}
